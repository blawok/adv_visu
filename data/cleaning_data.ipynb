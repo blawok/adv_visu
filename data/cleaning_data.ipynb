{
 "cells": [
  {
   "cell_type": "code",
   "execution_count": 6,
   "metadata": {},
   "outputs": [],
   "source": [
    "import pandas as pd\n",
    "from nltk.corpus import stopwords\n",
    "stop = stopwords.words('english')"
   ]
  },
  {
   "cell_type": "code",
   "execution_count": 3,
   "metadata": {},
   "outputs": [],
   "source": [
    "df = pd.read_csv('reddit_df.csv')"
   ]
  },
  {
   "cell_type": "code",
   "execution_count": 14,
   "metadata": {},
   "outputs": [],
   "source": [
    "df['clean_body'] = df['body'].apply(lambda x: ' '.join([word for word in str(x).split() if word not in (stop)]))\n",
    "df['clean_body'] = df['clean_body'].str.replace('http\\S+|www.\\S+', '', case=False)\n",
    "df['clean_body'] = df.clean_body.str.replace(r'[^a-zA-Z ]\\s?',r' ',regex=True)"
   ]
  },
  {
   "cell_type": "code",
   "execution_count": 23,
   "metadata": {},
   "outputs": [
    {
     "data": {
      "text/html": [
       "<div>\n",
       "<style scoped>\n",
       "    .dataframe tbody tr th:only-of-type {\n",
       "        vertical-align: middle;\n",
       "    }\n",
       "\n",
       "    .dataframe tbody tr th {\n",
       "        vertical-align: top;\n",
       "    }\n",
       "\n",
       "    .dataframe thead th {\n",
       "        text-align: right;\n",
       "    }\n",
       "</style>\n",
       "<table border=\"1\" class=\"dataframe\">\n",
       "  <thead>\n",
       "    <tr style=\"text-align: right;\">\n",
       "      <th></th>\n",
       "      <th>Unnamed: 0</th>\n",
       "      <th>V1</th>\n",
       "      <th>created</th>\n",
       "      <th>body</th>\n",
       "      <th>thread_id</th>\n",
       "      <th>timestamp</th>\n",
       "      <th>clean_body</th>\n",
       "    </tr>\n",
       "  </thead>\n",
       "  <tbody>\n",
       "    <tr>\n",
       "      <th>0</th>\n",
       "      <td>1</td>\n",
       "      <td>0</td>\n",
       "      <td>1561115126</td>\n",
       "      <td>&gt;\\tThe strike was set to take place just befor...</td>\n",
       "      <td>c35akk</td>\n",
       "      <td>2019-06-21 13:05:26</td>\n",
       "      <td>The strike set take place dawn Friday Iran mi...</td>\n",
       "    </tr>\n",
       "    <tr>\n",
       "      <th>1</th>\n",
       "      <td>2</td>\n",
       "      <td>1</td>\n",
       "      <td>1561121532</td>\n",
       "      <td>Notice this line in the article: \\r\\r\\n\\r\\r\\n&gt;...</td>\n",
       "      <td>c35akk</td>\n",
       "      <td>2019-06-21 14:52:12</td>\n",
       "      <td>Notice line article  No government officials a...</td>\n",
       "    </tr>\n",
       "    <tr>\n",
       "      <th>2</th>\n",
       "      <td>3</td>\n",
       "      <td>2</td>\n",
       "      <td>1561124055</td>\n",
       "      <td>In other news, John Bolton has been hospitaliz...</td>\n",
       "      <td>c35akk</td>\n",
       "      <td>2019-06-21 15:34:15</td>\n",
       "      <td>In news John Bolton hospitalized doctors calli...</td>\n",
       "    </tr>\n",
       "    <tr>\n",
       "      <th>3</th>\n",
       "      <td>4</td>\n",
       "      <td>3</td>\n",
       "      <td>1561124039</td>\n",
       "      <td>&gt;Planes were in the air and ships were in posi...</td>\n",
       "      <td>c35akk</td>\n",
       "      <td>2019-06-21 15:33:59</td>\n",
       "      <td>Planes air ships position missiles fired word...</td>\n",
       "    </tr>\n",
       "    <tr>\n",
       "      <th>4</th>\n",
       "      <td>5</td>\n",
       "      <td>4</td>\n",
       "      <td>1561116305</td>\n",
       "      <td>[deleted]</td>\n",
       "      <td>c35akk</td>\n",
       "      <td>2019-06-21 13:25:05</td>\n",
       "      <td>deleted</td>\n",
       "    </tr>\n",
       "  </tbody>\n",
       "</table>\n",
       "</div>"
      ],
      "text/plain": [
       "   Unnamed: 0  V1     created  \\\n",
       "0           1   0  1561115126   \n",
       "1           2   1  1561121532   \n",
       "2           3   2  1561124055   \n",
       "3           4   3  1561124039   \n",
       "4           5   4  1561116305   \n",
       "\n",
       "                                                body thread_id  \\\n",
       "0  >\\tThe strike was set to take place just befor...    c35akk   \n",
       "1  Notice this line in the article: \\r\\r\\n\\r\\r\\n>...    c35akk   \n",
       "2  In other news, John Bolton has been hospitaliz...    c35akk   \n",
       "3  >Planes were in the air and ships were in posi...    c35akk   \n",
       "4                                          [deleted]    c35akk   \n",
       "\n",
       "             timestamp                                         clean_body  \n",
       "0  2019-06-21 13:05:26   The strike set take place dawn Friday Iran mi...  \n",
       "1  2019-06-21 14:52:12  Notice line article  No government officials a...  \n",
       "2  2019-06-21 15:34:15  In news John Bolton hospitalized doctors calli...  \n",
       "3  2019-06-21 15:33:59   Planes air ships position missiles fired word...  \n",
       "4  2019-06-21 13:25:05                                           deleted   "
      ]
     },
     "execution_count": 23,
     "metadata": {},
     "output_type": "execute_result"
    }
   ],
   "source": [
    "df.head()"
   ]
  },
  {
   "cell_type": "code",
   "execution_count": 24,
   "metadata": {},
   "outputs": [],
   "source": [
    "df.to_csv('clean_reddit_df.csv', sep=',')"
   ]
  }
 ],
 "metadata": {
  "kernelspec": {
   "display_name": "Python 3",
   "language": "python",
   "name": "python3"
  },
  "language_info": {
   "codemirror_mode": {
    "name": "ipython",
    "version": 3
   },
   "file_extension": ".py",
   "mimetype": "text/x-python",
   "name": "python",
   "nbconvert_exporter": "python",
   "pygments_lexer": "ipython3",
   "version": "3.7.2"
  }
 },
 "nbformat": 4,
 "nbformat_minor": 2
}
