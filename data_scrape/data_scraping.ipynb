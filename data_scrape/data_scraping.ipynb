{
 "cells": [
  {
   "cell_type": "markdown",
   "metadata": {},
   "source": [
    "## articles"
   ]
  },
  {
   "cell_type": "code",
   "execution_count": 1,
   "metadata": {},
   "outputs": [],
   "source": [
    "# old\n",
    "# https://www.reddit.com/r/news/comments/c2spc2/us_confirms_iranian_missile_has_shot_down_drone/\n",
    "# https://www.reddit.com/r/politics/comments/d73dss/megathread_president_trump_authorizes_additional/?utm_source=share&utm_medium=mweb&fbclid=IwAR2WAStcPwU8siBVngXFyqRqksLicsAefvIN1BN_Swn0P3vdIWu_GDmvIVU&_branch_match_id=743164684587958295\n",
    "# https://www.reddit.com/r/worldnews/comments/c3ealo/iran_warned_twice_before_downing_us_pilotless/?utm_source=share&utm_medium=mweb&fbclid=IwAR2mla0pQgeTx7VBxpI2m7furlrAEe8cxc1v7pTF7PbAkut4lzUspAN4cwA&_branch_match_id=743164684587958295\n",
    "# https://www.reddit.com/r/worldnews/comments/bq4izl/iran_dismisses_possibility_of_conflict_says_does/?utm_source=share&utm_medium=mweb&fbclid=IwAR1-DZqdun9uszs6EkH8AGgRe5NAG85IuIrWJI43TRu7ggG1Z_YReKIoi6U&_branch_match_id=743164684587958295\n",
    "\n",
    "# new\n",
    "# https://www.reddit.com/r/politics/comments/ej95ak/megathread_qassim_soleimani_head_of_irans_elite/\n",
    "\n",
    "\n",
    "# added later\n",
    "# https://www.reddit.com/r/worldnews/comments/c35akk/trump_approves_strikes_on_iran_but_then_abruptly/\n",
    "# https://www.reddit.com/r/TrueOffMyChest/comments/ekad1u/redditors_know_nothing_about_iran_and_it/\n",
    "# https://www.reddit.com/r/news/comments/ej7ykn/iraqi_tv_irans_gen_soleimani_killed_in_baghdad/\n",
    "# https://www.reddit.com/r/worldnews/comments/ccednx/house_votes_251170_adopting_bipartisan_provision/\n",
    "# https://www.reddit.com/r/worldnews/comments/c555x4/irans_president_says_trump_white_house_afflicted/\n",
    "# https://www.reddit.com/r/PoliticalDiscussion/comments/elkxvb/megathread_iran_fires_missiles_at_us_bases_in/\n",
    "# https://www.reddit.com/r/politics/comments/elku7e/megathread_iran_launches_missiles_at_us_airbase/"
   ]
  },
  {
   "cell_type": "code",
   "execution_count": 2,
   "metadata": {},
   "outputs": [],
   "source": [
    "import praw\n",
    "import pandas as pd\n",
    "import datetime as dt\n",
    "import tqdm\n",
    "\n",
    "reddit = praw.Reddit(client_id='emUff7fdtvmK6w',\n",
    "                     client_secret='npXpD8mpU-FdMED9v22cxSJFsrw',\n",
    "                     user_agent='PrawTut')"
   ]
  },
  {
   "cell_type": "code",
   "execution_count": 36,
   "metadata": {},
   "outputs": [
    {
     "name": "stderr",
     "output_type": "stream",
     "text": [
      "100%|████████████████████████████████████████████████████████████████████████████████| 1/1 [1:11:03<00:00, 4263.16s/it]IOPub data rate exceeded.\n",
      "The notebook server will temporarily stop sending output\n",
      "to the client in order to avoid crashing it.\n",
      "To change this limit, set the config variable\n",
      "`--NotebookApp.iopub_data_rate_limit`.\n",
      "\n",
      "Current values:\n",
      "NotebookApp.iopub_data_rate_limit=1000000.0 (bytes/sec)\n",
      "NotebookApp.rate_limit_window=3.0 (secs)\n",
      "\n",
      "\n"
     ]
    }
   ],
   "source": [
    "# idList = ['c2spc2', 'd73dss', 'c3ealo', 'bq4izl', 'ej95ak']\n",
    "idList = ['elku7e']\n",
    "\n",
    "posts_dict = {\"created\": [], \"body\":[], \"thread_id\":[]}\n",
    "\n",
    "for item in tqdm.tqdm(idList):\n",
    "    submission = reddit.submission(id=item)\n",
    "    submission.comments.replace_more(limit=None)\n",
    "    for comment in submission.comments.list():\n",
    "        posts_dict[\"created\"].append(comment.created)\n",
    "        posts_dict[\"body\"].append(comment.body)\n",
    "        posts_dict[\"thread_id\"].append(item)\n",
    "\n",
    "print(posts_dict)"
   ]
  },
  {
   "cell_type": "code",
   "execution_count": 32,
   "metadata": {},
   "outputs": [
    {
     "name": "stdout",
     "output_type": "stream",
     "text": [
      "1\n"
     ]
    }
   ],
   "source": [
    "print(len(set(posts_dict[\"thread_id\"])))"
   ]
  },
  {
   "cell_type": "code",
   "execution_count": 33,
   "metadata": {},
   "outputs": [],
   "source": [
    "df = pd.DataFrame(posts_dict)"
   ]
  },
  {
   "cell_type": "code",
   "execution_count": 34,
   "metadata": {},
   "outputs": [],
   "source": [
    "def get_date(created):\n",
    "    return dt.datetime.fromtimestamp(created)\n",
    "\n",
    "_timestamp = df[\"created\"].apply(get_date)\n",
    "\n",
    "df = df.assign(timestamp = _timestamp)"
   ]
  },
  {
   "cell_type": "code",
   "execution_count": 35,
   "metadata": {},
   "outputs": [],
   "source": [
    "file_name = 'elku7e.csv'\n",
    "df.to_csv(file_name, sep='\\t')"
   ]
  }
 ],
 "metadata": {
  "kernelspec": {
   "display_name": "Python 3",
   "language": "python",
   "name": "python3"
  },
  "language_info": {
   "codemirror_mode": {
    "name": "ipython",
    "version": 3
   },
   "file_extension": ".py",
   "mimetype": "text/x-python",
   "name": "python",
   "nbconvert_exporter": "python",
   "pygments_lexer": "ipython3",
   "version": "3.7.2"
  }
 },
 "nbformat": 4,
 "nbformat_minor": 2
}
